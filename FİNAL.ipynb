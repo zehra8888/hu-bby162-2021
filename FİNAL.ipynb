{
  "nbformat": 4,
  "nbformat_minor": 0,
  "metadata": {
    "colab": {
      "name": "FİNAL.ipynb",
      "provenance": [],
      "collapsed_sections": [],
      "toc_visible": true,
      "mount_file_id": "1HomY9LWvxlpBlZ6IQ2L5AsrtxtbTcMRR",
      "authorship_tag": "ABX9TyN7PM+F3GCYFb9O/FI/+5OV",
      "include_colab_link": true
    },
    "kernelspec": {
      "name": "python3",
      "display_name": "Python 3"
    },
    "language_info": {
      "name": "python"
    }
  },
  "cells": [
    {
      "cell_type": "markdown",
      "metadata": {
        "id": "view-in-github",
        "colab_type": "text"
      },
      "source": [
        "<a href=\"https://colab.research.google.com/github/zehra8888/hu-bby162-2021/blob/main/F%C4%B0NAL.ipynb\" target=\"_parent\"><img src=\"https://colab.research.google.com/assets/colab-badge.svg\" alt=\"Open In Colab\"/></a>"
      ]
    },
    {
      "cell_type": "markdown",
      "metadata": {
        "id": "uOhGFySeAP5y"
      },
      "source": [
        "FİNAL\n"
      ]
    },
    {
      "cell_type": "code",
      "metadata": {
        "colab": {
          "base_uri": "https://localhost:8080/"
        },
        "id": "CXC99dASAKeq",
        "outputId": "aef4d3f8-a626-419a-8257-692c23400747"
      },
      "source": [
        "\n",
        "print(\":: Kütüphane Kataloglama Sistemine Hoş Geldiniz ::\")\n",
        "dosya = \"/content/drive/MyDrive/final.txt\"\n",
        "\n",
        "def eserListele():\n",
        "  f = open(dosya, 'r')\n",
        "  for line in f.readlines():\n",
        "    print(line)\n",
        "  f.close()\n",
        "def eserKayıt():\n",
        "  eserAdi = input(\"Eser Adını Giriniz: \")\n",
        "  yazarAdi = input(\" Lutfen Eserin Yazarını Giriniz: \")\n",
        "  eserYayinevi = input(\" Lutfen Eserin Yayınevi Bilgisini Giriniz: \")\n",
        "  basımTarihi = input(\" Lutfen Eserin Basım Tarihi Bilgisini Giriniz: \")\n",
        "  eserIsbn = input(\"Lutfen Eserin ISBN Bilgilerini Giriniz: \")\n",
        "  f = open(dosya, 'a' )\n",
        "  f.write(eserAdi + \" , \" + yazarAdi + \" , \" + eserYayinevi + \" , \"  + basımTarihi + \",\"  + eserIsbn + '\\n')\n",
        "  print(\"Kayıt işleminiz başarıyla gerçekleştirilmiştir.\")\n",
        "  f.close()\n",
        "  \n",
        "islemSecme = [\"listele\", \"ekle\", \"sonlandır\"]\n",
        "while islemSecme:\n",
        "  girilen_islem = input(\"Lutfen katalogdaki eser listesini görüntülemek için 'listele' yazınız. \\n\" \n",
        "      \"Yeni eser kaydı eklemek için 'ekle' yazınız.\\n\"     \n",
        "      \"Sistemden çıkmak için 'sonlandır' yazınız.\\n\"\n",
        "      \"Yapmak istediğiniz işlem için ilgili kelimeyi yazınız: \")\n",
        "  if girilen_islem == islemSecme[0]:\n",
        "    eserListele()\n",
        "  elif girilen_islem == islemSecme[1]:\n",
        "      eserKayıt()\n",
        "  elif girilen_islem == islemSecme [2]:\n",
        "        print(\"sistemden çıkılıyor...\")\n",
        "        break"
      ],
      "execution_count": null,
      "outputs": [
        {
          "output_type": "stream",
          "text": [
            ":: Kütüphane Kataloglama Sistemine Hoş Geldiniz ::\n",
            "O benim dünyam, William Steig, DreamWorks Animation SKG, 1990, 5487778887778\n",
            "\n",
            "Often, The Weeknd, Afrika Yayınları, 2019, 5498887777777\n",
            "\n",
            "Streets, Doja Cat, BigBang Yayınları, 2000, 5497778887788\n",
            "\n",
            "Balck Out Day, Phantogrami, Çapatıp Yayınevi, 2021, 5498887778888\n",
            "\n",
            "West Coast, Lana Del Rey, Dönence Basım ve Yayın Hizmetleri, 2014,  8887775497778\n",
            "\n",
            "Sweet Dreams, Annie Lennoxi, Eylül Sanat Yayıncılık, 2009, 7778885495498\n",
            "\n",
            "Montero, Lil Nas X, Express Dergisi, 2021, 5498887775495\n",
            "\n",
            "Migos, Narcos, KLitera Yayıncılık Ansiklopedik Kitaplar, 2018, 5495498887777\n",
            "\n",
            "Playboi Carti, Sky, Medyanos Reklam Organizasyon, 2021, 8887788854954\n",
            "\n",
            "Passed or Past, Valo, Özlem Yayın Dağıtım, 2021, 5495498888888\n",
            "\n",
            "\n",
            "\n",
            "\n",
            "\n",
            "\n",
            "\n",
            "\n",
            "\n",
            "\n",
            "\n",
            "\n",
            "\n",
            "\n",
            "\n",
            "\n",
            "\n",
            "\n",
            "\n",
            "\n",
            "\n",
            "\n",
            "\n",
            "\n",
            "\n",
            "\n",
            "\n",
            "\n",
            "\n",
            "Lutfen katalogdaki eser listesini görüntülemek için 'listele' yazınız. \n",
            "Yeni eser kaydı eklemek için 'ekle' yazınız.\n",
            "Sistemden çıkmak için 'sonlandır' yazınız.\n",
            "Yapmak istediğiniz işlem için ilgili kelimeyi yazınız: sonlandır\n",
            "sistemden çıkılıyor...\n"
          ],
          "name": "stdout"
        }
      ]
    }
  ]
}