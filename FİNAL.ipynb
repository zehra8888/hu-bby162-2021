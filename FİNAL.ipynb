{
  "nbformat": 4,
  "nbformat_minor": 0,
  "metadata": {
    "colab": {
      "name": "FİNAL.ipynb",
      "provenance": [],
      "collapsed_sections": [],
      "mount_file_id": "1HomY9LWvxlpBlZ6IQ2L5AsrtxtbTcMRR",
      "authorship_tag": "ABX9TyPKAVduPLfcxCfvqRkP92h2",
      "include_colab_link": true
    },
    "kernelspec": {
      "name": "python3",
      "display_name": "Python 3"
    },
    "language_info": {
      "name": "python"
    }
  },
  "cells": [
    {
      "cell_type": "markdown",
      "metadata": {
        "id": "view-in-github",
        "colab_type": "text"
      },
      "source": [
        "<a href=\"https://colab.research.google.com/github/zehra8888/hu-bby162-2021/blob/main/F%C4%B0NAL.ipynb\" target=\"_parent\"><img src=\"https://colab.research.google.com/assets/colab-badge.svg\" alt=\"Open In Colab\"/></a>"
      ]
    },
    {
      "cell_type": "markdown",
      "metadata": {
        "id": "uOhGFySeAP5y"
      },
      "source": [
        "FİNAL\n"
      ]
    },
    {
      "cell_type": "code",
      "metadata": {
        "colab": {
          "base_uri": "https://localhost:8080/"
        },
        "id": "CXC99dASAKeq",
        "outputId": "1f211a28-d722-4eab-db7a-94939890269b"
      },
      "source": [
        "\n",
        "print(\":: Kütüphane Kataloglama Sistemine Hoş Geldiniz ::\")\n",
        "dosya = \"/content/drive/MyDrive/final.txt\"\n",
        "\n",
        "def eserListele():\n",
        "  f = open(dosya, 'r')\n",
        "  for line in f.readlines():\n",
        "    print(line)\n",
        "  f.close()\n",
        "def eserKayıt():\n",
        "  eserAdi = input(\"Eser Adını Giriniz: \")\n",
        "  yazarAdi = input(\" Lutfen Eserin Yazarını Giriniz: \")\n",
        "  eserYayinevi = input(\" Lutfen Eserin Yayınevi Bilgisini Giriniz: \")\n",
        "  basımTarihi = input(\" Lutfen Eserin Basım Tarihi Bilgisini Giriniz: \")\n",
        "  eserIsbn = input(\"Lutfen Eserin ISBN Bilgilerini Giriniz: \")\n",
        "  f = open(dosya, 'a' )\n",
        "  f.write(eserAdi + \" , \" + yazarAdi + \" , \" + eserYayinevi + \" , \"  + basımTarihi + \",\"  + eserIsbn + '\\n')\n",
        "  print(\"Kayıt işleminiz başarıyla gerçekleştirilmiştir.\")\n",
        "  f.close()\n",
        "  \n",
        "islemSecme = [\"listele\", \"ekle\", \"sonlandır\"]\n",
        "while islemSecme:\n",
        "  girilen_islem = input(\"Lutfen katalogdaki eser listesini görüntülemek için 'listele' yazınız. \\n\" \n",
        "      \"Yeni eser kaydı eklemek için 'ekle' yazınız.\\n\"     \n",
        "      \"Sistemden çıkmak için 'sonlandır' yazınız.\\n\"\n",
        "      \"Yapmak istediğiniz işlem için ilgili kelimeyi yazınız: \")\n",
        "  if girilen_islem == islemSecme[0]:\n",
        "    eserListele()\n",
        "  elif girilen_islem == islemSecme[1]:\n",
        "      eserKayıt()\n",
        "  elif girilen_islem == islemSecme [2]:\n",
        "        print(\"sistemden çıkılıyor...\")\n",
        "        break"
      ],
      "execution_count": null,
      "outputs": [
        {
          "output_type": "stream",
          "text": [
            ":: Kütüphane Kataloglama Sistemine Hoş Geldiniz ::\n"
          ],
          "name": "stdout"
        }
      ]
    },
    {
      "cell_type": "markdown",
      "metadata": {
        "id": "edc-a2KUAPdR"
      },
      "source": [
        ""
      ]
    }
  ]
}