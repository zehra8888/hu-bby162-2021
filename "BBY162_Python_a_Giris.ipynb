{
  "nbformat": 4,
  "nbformat_minor": 0,
  "metadata": {
    "colab": {
      "name": "\"BBY162_Python_a_Giris.ipynb",
      "provenance": [],
      "collapsed_sections": [],
      "mount_file_id": "1P5Z4fx_vXDbyQQ8WT4_Ga-f17e8EFDRx",
      "authorship_tag": "ABX9TyP8kNDJuPzlFxYg9SmbfiV4",
      "include_colab_link": true
    },
    "kernelspec": {
      "name": "python3",
      "display_name": "Python 3"
    },
    "language_info": {
      "name": "python"
    }
  },
  "cells": [
    {
      "cell_type": "markdown",
      "metadata": {
        "id": "view-in-github",
        "colab_type": "text"
      },
      "source": [
        "<a href=\"https://colab.research.google.com/github/zehra8888/hu-bby162-2021/blob/main/%22BBY162_Python_a_Giris.ipynb\" target=\"_parent\"><img src=\"https://colab.research.google.com/assets/colab-badge.svg\" alt=\"Open In Colab\"/></a>"
      ]
    },
    {
      "cell_type": "code",
      "metadata": {
        "colab": {
          "base_uri": "https://localhost:8080/"
        },
        "id": "LJmos3Y4E326",
        "outputId": "120f9d8d-b1c1-4bf7-f9df-02267d82b527"
      },
      "source": [
        "dosya = 'adres.txt'\n",
        "\n",
        "f = open(dosya,'a')\n",
        "bilgi = input('Kaydedlcek bilgi')\n",
        "\n",
        "f.write (bilgi+'/n')\n",
        "f.close()\n",
        "\n",
        "f = open(dosya,'r')\n",
        "for line in f.readlines():\n",
        "  print(line)\n",
        "  \n",
        "  f.close()"
      ],
      "execution_count": null,
      "outputs": [
        {
          "output_type": "stream",
          "text": [
            "Kaydedlcek bilgiZEHRA ÜNAL ze7raunals@gmail.com\n",
            "ZEHRA ÜNAL zeh7raunals@gmail.comZEHRA ÜNAL ze7raunals@gmail.com/n\n"
          ],
          "name": "stdout"
        }
      ]
    }
  ]
}