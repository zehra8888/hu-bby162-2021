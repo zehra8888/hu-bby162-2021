{
  "nbformat": 4,
  "nbformat_minor": 0,
  "metadata": {
    "colab": {
      "name": "final.ipynb",
      "provenance": [],
      "authorship_tag": "ABX9TyOcpoLegyYDeHjroCVNYM9H",
      "include_colab_link": true
    },
    "kernelspec": {
      "name": "python3",
      "display_name": "Python 3"
    },
    "language_info": {
      "name": "python"
    }
  },
  "cells": [
    {
      "cell_type": "markdown",
      "metadata": {
        "id": "view-in-github",
        "colab_type": "text"
      },
      "source": [
        "<a href=\"https://colab.research.google.com/github/zehra8888/hu-bby162-2021/blob/main/final.ipynb\" target=\"_parent\"><img src=\"https://colab.research.google.com/assets/colab-badge.svg\" alt=\"Open In Colab\"/></a>"
      ]
    },
    {
      "cell_type": "markdown",
      "metadata": {
        "id": "M1r3kLoONRSS"
      },
      "source": [
        "Final Projesi\n"
      ]
    },
    {
      "cell_type": "code",
      "metadata": {
        "id": "UfnuUT99NdEf"
      },
      "source": [
        "#Kütüphane Otomasyonu"
      ],
      "execution_count": null,
      "outputs": []
    }
  ]
}