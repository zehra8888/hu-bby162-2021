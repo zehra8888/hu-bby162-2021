{
  "nbformat": 4,
  "nbformat_minor": 0,
  "metadata": {
    "colab": {
      "name": "final.ipynb",
      "provenance": [],
      "collapsed_sections": [],
      "authorship_tag": "ABX9TyPKatm81dMozbTsSXgyLXXx",
      "include_colab_link": true
    },
    "kernelspec": {
      "name": "python3",
      "display_name": "Python 3"
    },
    "language_info": {
      "name": "python"
    }
  },
  "cells": [
    {
      "cell_type": "markdown",
      "metadata": {
        "id": "view-in-github",
        "colab_type": "text"
      },
      "source": [
        "<a href=\"https://colab.research.google.com/github/zehra8888/hu-bby162-2021/blob/main/final.ipynb\" target=\"_parent\"><img src=\"https://colab.research.google.com/assets/colab-badge.svg\" alt=\"Open In Colab\"/></a>"
      ]
    },
    {
      "cell_type": "code",
      "metadata": {
        "id": "0rCf5wVwg37l",
        "colab": {
          "base_uri": "https://localhost:8080/"
        },
        "outputId": "3c5baba8-c478-4a91-d277-fbe3a251faba"
      },
      "source": [
        "#Kütüphane Otomasyonu\n",
        "#Veri tabanı: /content/drive/MyDrive/final.txt\n",
        "\n",
        "print(\":: Kütüphane Kataloglama Sistemine Hoş Geldiniz ::\")\n",
        "\n",
        "def eserListele():\n",
        "  f = open(dosya, 'r')\n",
        "  for line in f.readlines():\n",
        "    print(line)\n",
        "  f.close()\n",
        "\n",
        "def eserKaydet():\n",
        "  eserAdi = input(\"Eser Adını Giriniz: \")\n",
        "  yazarAdi = input(\" Lutfen Eserin Yazarını Giriniz: \")\n",
        "  eserYayinevi = input(\" Lutfen Eserin Yayınevi Bilgisini Giriniz: \")\n",
        "  basımTarihi = input(\" Lutfen Eserin Basım Tarihi Bilgisini Giriniz: \")\n",
        "  eserIsbn = input(\"Lutfen Eserin ISBN Bilgilerini Giriniz: \")\n",
        "  f = open(dosya, 'a' )\n",
        "  f.write(eserAdi + \" , \" + yazarAdi + \" , \" + eserYayinevi + \" , \"  + basımTarihi + \",\"  + eserIsbn + '\\n')\n",
        "  print(\"Kayıt işleminiz başarıyla gerçekleştirilmiştir.\")\n",
        "  f.close()\n",
        "  \n",
        "islemSecme = [\"listele\", \"ekle\", \"sonlandır\"]\n",
        "while islemSecme:\n",
        "  girilen_islem = input(\"Lutfen katalogdaki eser listesini görüntülemek için 'listele' yazınız. \\n\"\n",
        "      \"Yeni eser kaydı eklemek için 'ekle' yazınız.\\n\"     \n",
        "      \"Sistemden çıkmak için 'sonlandır' yazınız.\\n\"\n",
        "      \"Yapmak istediğiniz işlem için ilgili kelimeyi yazınız: \")\n",
        "  \n",
        "  \n",
        " \n",
        "\n",
        "\n",
        "\n",
        "\n",
        "\n",
        "\n",
        "\n"
      ],
      "execution_count": null,
      "outputs": [
        {
          "output_type": "stream",
          "text": [
            ":: Kütüphane Kataloglama Sistemine Hoş Geldiniz ::\n"
          ],
          "name": "stdout"
        }
      ]
    }
  ]
}