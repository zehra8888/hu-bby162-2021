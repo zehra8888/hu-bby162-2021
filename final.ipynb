{
  "nbformat": 4,
  "nbformat_minor": 0,
  "metadata": {
    "colab": {
      "name": "final.ipynb",
      "provenance": [],
      "collapsed_sections": [],
      "mount_file_id": "1gw6UjMfzpUhucqK3Q1REzzy75GjcjaXM",
      "authorship_tag": "ABX9TyM/PnXMSFXbB9VA+Zd1hPPm",
      "include_colab_link": true
    },
    "kernelspec": {
      "name": "python3",
      "display_name": "Python 3"
    },
    "language_info": {
      "name": "python"
    }
  },
  "cells": [
    {
      "cell_type": "markdown",
      "metadata": {
        "id": "view-in-github",
        "colab_type": "text"
      },
      "source": [
        "<a href=\"https://colab.research.google.com/github/zehra8888/hu-bby162-2021/blob/main/final.ipynb\" target=\"_parent\"><img src=\"https://colab.research.google.com/assets/colab-badge.svg\" alt=\"Open In Colab\"/></a>"
      ]
    },
    {
      "cell_type": "markdown",
      "metadata": {
        "id": "M1r3kLoONRSS"
      },
      "source": [
        "Final Projesi\n"
      ]
    },
    {
      "cell_type": "code",
      "metadata": {
        "id": "UfnuUT99NdEf"
      },
      "source": [
        "#Kütüphane Otomasyonu\n",
        "#Veri tabanı: /content/drive/MyDrive/final.txt\n",
        "\n",
        "dosya = \"/content/drive/MyDrive/final.txt\"\n",
        "\n",
        "def eserListele():\n",
        " acilanDosya = open(dosya, \"r\")\n",
        "\n",
        " for line in acilanDosya.readlines():\n",
        "    print(line)\n",
        "\n",
        " acilanDosya.close()\n",
        "\n",
        "def eserKaydet():\n",
        " eserAdİ \n",
        " yazarAdİ \n",
        " yayınevi\n",
        " basımTarihi\n",
        " ISBN \n",
        "\n",
        "f.write(eserAdı+\" , \")\n",
        "\n",
        "def cikis():\n",
        "  print('Uygulamadan çıkmak istediğine emin misin: (Evet/Hayır)')\n",
        "  cikilsin = input():\n",
        "  \n",
        "def menu():\n",
        "  print('Katoloğa Hoşgeldiniz!..')\n",
        "  print('İşlem seçiniz: 1)Kayıt Listele / 2)Yeni Eser Kaydet')\n",
        "  secim = input('Seçiminizi nümerik olarak girin: ')\n",
        "  \n"
      ],
      "execution_count": null,
      "outputs": []
    }
  ]
}