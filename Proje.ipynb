{
  "nbformat": 4,
  "nbformat_minor": 0,
  "metadata": {
    "colab": {
      "name": "Proje.ipynb",
      "provenance": [],
      "mount_file_id": "1xzVUlUIukHVky5oh3nXOkG61dDrcYY7L",
      "authorship_tag": "ABX9TyMDQxpRKXUoeaNh3scTG2Cu",
      "include_colab_link": true
    },
    "kernelspec": {
      "name": "python3",
      "display_name": "Python 3"
    },
    "language_info": {
      "name": "python"
    }
  },
  "cells": [
    {
      "cell_type": "markdown",
      "metadata": {
        "id": "view-in-github",
        "colab_type": "text"
      },
      "source": [
        "<a href=\"https://colab.research.google.com/github/zehra8888/hu-bby162-2021/blob/main/Proje.ipynb\" target=\"_parent\"><img src=\"https://colab.research.google.com/assets/colab-badge.svg\" alt=\"Open In Colab\"/></a>"
      ]
    },
    {
      "cell_type": "code",
      "metadata": {
        "colab": {
          "base_uri": "https://localhost:8080/"
        },
        "id": "hlW15XOpa8bA",
        "outputId": "2d4322d3-9fbb-4962-ec09-f55bd062dae1"
      },
      "source": [
        "dosya ='/content/drive/MyDrive/adres.txt'\n",
        "\n",
        "f = open(dosya,'a')\n",
        "bilgi = input('Kaydedilcek bilgi')\n",
        "\n",
        "f.write (bilgi+'\\n')\n",
        "f.close()\n",
        "\n",
        "f = open(dosya,'r')\n",
        "for line in f.readlines():\n",
        "  print(line)\n",
        "  \n",
        "  f.close()"
      ],
      "execution_count": 6,
      "outputs": [
        {
          "output_type": "stream",
          "text": [
            "Kaydedilcek bilgi: Zehra ÜNAL ze7raunals@gmail.com\n",
            "gmail = ze7raunals@gmail.com: Zehra ÜNAL ze7raunals@gmail.com\n",
            "\n"
          ],
          "name": "stdout"
        }
      ]
    }
  ]
}